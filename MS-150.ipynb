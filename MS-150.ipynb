{
 "cells": [
  {
   "cell_type": "code",
   "execution_count": 1,
   "id": "3a080ee4-a38d-4aac-a684-2a935e98cd3b",
   "metadata": {},
   "outputs": [],
   "source": [
    "import pandas as pd\n",
    "import numpy as np\n",
    "import matplotlib.pyplot as plt"
   ]
  },
  {
   "cell_type": "code",
   "execution_count": 23,
   "id": "e24c420e-6dc4-495a-8071-997f064d494d",
   "metadata": {},
   "outputs": [],
   "source": [
    "def week_number(date):\n",
    "    '''\n",
    "        Parses the date and returns an integer depending on which week it is.\n",
    "        Input:\n",
    "            date: is a string given in the following format: 14-08-22\n",
    "        Returns:\n",
    "            week: integer, number of week it is based on the date where April 24-30 is week zero based on Jan 2-8 being week 16.\n",
    "        '''\n",
    "    \n",
    "    date = date.split(\"-\")\n",
    "    day_number = 0\n",
    "    week = 0\n",
    "    \n",
    "    for i in range(len(date)):\n",
    "        \n",
    "        if i == 0: # Day\n",
    "            day_number += int(date[i])\n",
    "            \n",
    "        elif i==2: # Year\n",
    "            if int(date[i]) == 22: #Needs to add 52 weeks\n",
    "                week = 17+52-round((day_number+1)/7) #The +1 is because of rounding\n",
    "            \n",
    "            elif int(date[i]) == 21: #Needs to add 52 weeks\n",
    "                week = 17+52*2-round((day_number+1)/7) #The +1 is because of rounding\n",
    "                \n",
    "            else: #Needs to subtract\n",
    "                week = 17-round((day_number+2)/7) #The +2 is because of rounding\n",
    "            \n",
    "        else: # Month\n",
    "            # Needs to add all the previous months\n",
    "            day_number += month_days(int(date[i]))\n",
    "            \n",
    "    return week\n",
    "            \n",
    "def month_days(month):\n",
    "    '''\n",
    "        Input:\n",
    "            month: is an integer value\n",
    "        Returns:\n",
    "            integer, number of days until that month\n",
    "    '''\n",
    "    days = [0, 31, 59, 90, 120, 151, 181, 212, 243, 273, 304, 334]\n",
    "    return days[month-1]"
   ]
  },
  {
   "cell_type": "code",
   "execution_count": 24,
   "id": "f4e4f537-758d-4524-984d-ed0e49bee38d",
   "metadata": {},
   "outputs": [],
   "source": [
    "def speed(dist, time):\n",
    "    '''\n",
    "    Obtains the speed based on distance and time from a single event.\n",
    "    Input: distance and time\n",
    "    Return: speed\n",
    "    '''\n",
    "    speed_km_h = 0\n",
    "    convert_to_hours = time/60\n",
    "    speed_km_h = dist / convert_to_hours\n",
    "    \n",
    "    return np.round(speed_km_h,1) # uncertainty of +-0.3 km/h\n",
    "\n",
    "\n",
    "def specs_per_recording(data):\n",
    "    ''' Input: data opened by pd.read_csv\n",
    "        Returns: 4 vectors, date, distance, time and speed per recording\n",
    "    '''\n",
    "    date = []\n",
    "    distance_km = np.zeros(len(data))\n",
    "    time_min = np.zeros(len(data), dtype=int)\n",
    "    speed_km_h = np.zeros(len(data))\n",
    "    \n",
    "    for i in range(len(data)):\n",
    "        date.append(data[\"Date\"][i])\n",
    "        distance_km[i] = data[\"Distance(Km)\"][i]\n",
    "        time_min[i] = data[\"Time(min)\"][i]\n",
    "        speed_km_h[i] = speed(distance_km[i], time_min[i])\n",
    "        \n",
    "    return date, distance_km, time_min, speed_km_h"
   ]
  },
  {
   "cell_type": "code",
   "execution_count": 25,
   "id": "be1a449b-0cd5-48b2-b3f7-a3beb2900dca",
   "metadata": {},
   "outputs": [
    {
     "name": "stdout",
     "output_type": "stream",
     "text": [
      "       Date  Distance(Km)  Time(min)\n",
      "0  16-07-22          16.1         51\n",
      "1  02-08-22          10.6         34\n",
      "2  06-08-22          18.5         58\n",
      "3  12-08-22           5.7         18\n",
      "4  13-08-22           8.2         31\n",
      "5  14-08-22          35.6        108\n"
     ]
    }
   ],
   "source": [
    "data = pd.read_csv('recordings.txt')\n",
    "print(data)"
   ]
  },
  {
   "cell_type": "code",
   "execution_count": 26,
   "id": "2456ba8a-5a5a-4fa6-b7c6-718aa49856a4",
   "metadata": {},
   "outputs": [
    {
     "name": "stdout",
     "output_type": "stream",
     "text": [
      "<class 'pandas.core.frame.DataFrame'>\n",
      "RangeIndex: 6 entries, 0 to 5\n",
      "Data columns (total 3 columns):\n",
      " #   Column        Non-Null Count  Dtype  \n",
      "---  ------        --------------  -----  \n",
      " 0   Date          6 non-null      object \n",
      " 1   Distance(Km)  6 non-null      float64\n",
      " 2   Time(min)     6 non-null      int64  \n",
      "dtypes: float64(1), int64(1), object(1)\n",
      "memory usage: 272.0+ bytes\n"
     ]
    }
   ],
   "source": [
    "data.info()"
   ]
  },
  {
   "cell_type": "code",
   "execution_count": 27,
   "id": "ce713c30-7eb3-4ca4-b264-6fa1fa242c96",
   "metadata": {},
   "outputs": [
    {
     "data": {
      "text/plain": [
       "(['16-07-22', '02-08-22', '06-08-22', '12-08-22', '13-08-22', '14-08-22'],\n",
       " array([16.1, 10.6, 18.5,  5.7,  8.2, 35.6]),\n",
       " array([ 51,  34,  58,  18,  31, 108]),\n",
       " array([18.9, 18.7, 19.1, 19. , 15.9, 19.8]))"
      ]
     },
     "execution_count": 27,
     "metadata": {},
     "output_type": "execute_result"
    }
   ],
   "source": [
    "date, distance_km, time_min, speed_km_h = specs_per_recording(data)\n",
    "date, distance_km, time_min, speed_km_h"
   ]
  },
  {
   "cell_type": "code",
   "execution_count": 28,
   "id": "7a5d3474-8f62-44f3-bc28-63535d4f622e",
   "metadata": {},
   "outputs": [
    {
     "name": "stdout",
     "output_type": "stream",
     "text": [
      "41\n",
      "38\n",
      "38\n",
      "37\n",
      "37\n",
      "37\n",
      "[41, 38, 37]\n"
     ]
    }
   ],
   "source": [
    "activity_weeks = []\n",
    "\n",
    "for i in range(len(date)):\n",
    "    \n",
    "    current_week = week_number(date[i]) \n",
    "    print(current_week)\n",
    "    try:\n",
    "        if current_week != activity_weeks[-1]:\n",
    "            activity_weeks.append(current_week)\n",
    "            \n",
    "    except IndexError as e:\n",
    "        activity_weeks.append(current_week)\n",
    "        \n",
    "print(activity_weeks)"
   ]
  },
  {
   "cell_type": "code",
   "execution_count": 29,
   "id": "89408a6c-b68b-476c-88bb-af2aa67c8981",
   "metadata": {},
   "outputs": [],
   "source": [
    "def stats(week, data):\n",
    "    '''\n",
    "    In a given week, obtains the total amount of distance, time and average speed.\n",
    "    Inputs:\n",
    "        week is an integer value between 0 and 52\n",
    "        data: is the data we obtain from the pandas function\n",
    "    Returns:\n",
    "        3 vectors for each week: total_km, total_time, avg_speed\n",
    "    '''\n",
    "    \n",
    "    banner = True\n",
    "    total_km = 0\n",
    "    total_time = 0\n",
    "    avg_speed = []\n",
    "    date, distance_km, time_min, speed_km_h = specs_per_recording(data)\n",
    "    \n",
    "    for i in range(len(data)):\n",
    "        \n",
    "        current_week = week_number(date[i])\n",
    "        \n",
    "        if week == current_week:\n",
    "            total_km += distance_km[i]\n",
    "            total_time += time_min[i]\n",
    "            avg_speed.append(speed(distance_km[i], time_min[i]))\n",
    "            banner = False\n",
    "        \n",
    "        elif week != current_week and banner == False:\n",
    "            break\n",
    "            \n",
    "    return total_km, total_time, np.sum(avg_speed)/len(avg_speed)"
   ]
  },
  {
   "cell_type": "code",
   "execution_count": 30,
   "id": "4ab94091-8ca3-4095-bc0a-12376ebe47a3",
   "metadata": {},
   "outputs": [
    {
     "name": "stdout",
     "output_type": "stream",
     "text": [
      "       Date  Distance(Km)  Time(min)\n",
      "0  16-07-22          16.1         51\n",
      "1  02-08-22          10.6         34\n",
      "2  06-08-22          18.5         58\n",
      "3  12-08-22           5.7         18\n",
      "4  13-08-22           8.2         31\n",
      "5  14-08-22          35.6        108\n"
     ]
    }
   ],
   "source": [
    "print(data)"
   ]
  },
  {
   "cell_type": "code",
   "execution_count": 31,
   "id": "5156b896-c265-4dc0-93a1-5a52f6cfa13a",
   "metadata": {},
   "outputs": [],
   "source": [
    "def print_stats(week, data):\n",
    "    total_km, total_time, avg_speed = stats(week, data)\n",
    "    \n",
    "    print(\"Stats for week \" + str(week))\n",
    "    print(\"Distance: \" + str(total_km) + \" km\")\n",
    "    print(\"Time: \" + str(total_time) + \" min\")\n",
    "    print(\"Average speed: \" + str(avg_speed) + \" km/h\")\n",
    "    \n",
    "    return None"
   ]
  },
  {
   "cell_type": "code",
   "execution_count": 32,
   "id": "29888f5f-a1fe-4300-ab2d-8c8a2b770acc",
   "metadata": {},
   "outputs": [
    {
     "name": "stdout",
     "output_type": "stream",
     "text": [
      "Stats for week 41\n",
      "Distance: 16.1 km\n",
      "Time: 51 min\n",
      "Average speed: 18.9 km/h\n",
      "\n",
      "\n",
      "Stats for week 38\n",
      "Distance: 29.1 km\n",
      "Time: 92 min\n",
      "Average speed: 18.9 km/h\n",
      "\n",
      "\n",
      "Stats for week 37\n",
      "Distance: 49.5 km\n",
      "Time: 157 min\n",
      "Average speed: 18.233333333333334 km/h\n",
      "\n",
      "\n"
     ]
    }
   ],
   "source": [
    "for week in activity_weeks:\n",
    "    print_stats(week, data)\n",
    "    print(\"\\n\")"
   ]
  },
  {
   "cell_type": "code",
   "execution_count": 33,
   "id": "609ecb4b-e7e7-4ea3-9639-e66423f7c089",
   "metadata": {},
   "outputs": [],
   "source": [
    "length = len(activity_weeks)\n",
    "\n",
    "distance = np.zeros(length)\n",
    "time = np.zeros(length)\n",
    "speed_km_h = np.zeros(length)\n",
    "\n",
    "i = 0\n",
    "\n",
    "for week in activity_weeks:\n",
    "    total_km, total_time, avg_speed = stats(week, data)\n",
    "    distance[i], time[i], speed_km_h[i] = total_km, total_time, avg_speed\n",
    "    i += 1"
   ]
  },
  {
   "cell_type": "code",
   "execution_count": 34,
   "id": "48da32e2-63b0-4b97-92a6-a74eb4f96a4b",
   "metadata": {},
   "outputs": [
    {
     "data": {
      "image/png": "[encoded data removed]",
      "text/plain": [
       "<Figure size 432x288 with 1 Axes>"
      ]
     },
     "metadata": {
      "needs_background": "light"
     },
     "output_type": "display_data"
    }
   ],
   "source": [
    "plt.plot(activity_weeks, speed_km_h, marker=\"o\", label = \"avg speed\")\n",
    "# plt.ylim([0,52])\n",
    "plt.xlabel(\"Week #\")\n",
    "plt.ylabel(\"Km/h\")\n",
    "plt.title(\"Average speed\")\n",
    "plt.legend()\n",
    "plt.show()"
   ]
  },
  {
   "cell_type": "code",
   "execution_count": 35,
   "id": "f6435c59-cce3-4853-8716-e656254424e8",
   "metadata": {},
   "outputs": [
    {
     "data": {
      "image/png": "[encoded data removed]",
      "text/plain": [
       "<Figure size 432x288 with 1 Axes>"
      ]
     },
     "metadata": {
      "needs_background": "light"
     },
     "output_type": "display_data"
    }
   ],
   "source": [
    "plt.plot(activity_weeks, time, marker=\"o\", label = \"time\")\n",
    "# plt.ylim([0,52])\n",
    "plt.xlabel(\"Week #\")\n",
    "plt.ylabel(\"Time\")\n",
    "plt.title(\"Time\")\n",
    "plt.legend()\n",
    "plt.show()"
   ]
  },
  {
   "cell_type": "code",
   "execution_count": 36,
   "id": "6522d542-9205-4b7a-8794-e9653cad6571",
   "metadata": {},
   "outputs": [
    {
     "data": {
      "image/png": "[encoded data removed]",
      "text/plain": [
       "<Figure size 432x288 with 1 Axes>"
      ]
     },
     "metadata": {
      "needs_background": "light"
     },
     "output_type": "display_data"
    }
   ],
   "source": [
    "plt.plot(activity_weeks, distance, marker=\"o\", label = \"distance\")\n",
    "plt.ylim([0,52])\n",
    "plt.xlabel(\"Week #\")\n",
    "plt.ylabel(\"Km\")\n",
    "plt.title(\"Distance\")\n",
    "plt.legend()\n",
    "plt.show()"
   ]
  },
  {
   "cell_type": "markdown",
   "id": "3b2b6941-a63a-426b-82e3-c6eeaa5fe318",
   "metadata": {},
   "source": [
    "# Other file"
   ]
  },
  {
   "cell_type": "code",
   "execution_count": 37,
   "id": "ca6403c9-c224-4beb-a91e-f5828cbcbaf4",
   "metadata": {},
   "outputs": [
    {
     "name": "stdout",
     "output_type": "stream",
     "text": [
      "        Date\n",
      "0   12-08-22\n",
      "1   17-07-22\n",
      "2   18-06-22\n",
      "3   21-05-22\n",
      "4   25-04-22\n",
      "5   19-03-22\n",
      "6   17-02-22\n",
      "7   20-01-22\n",
      "8   20-12-21\n",
      "9   21-11-21\n",
      "10  22-10-21\n",
      "11  22-09-21\n"
     ]
    }
   ],
   "source": [
    "data = pd.read_csv('first_days.txt')\n",
    "print(data)"
   ]
  },
  {
   "cell_type": "code",
   "execution_count": 38,
   "id": "b2e3cbce-21a0-4e27-a6bb-c8c7e8dca60c",
   "metadata": {},
   "outputs": [
    {
     "data": {
      "text/plain": [
       "'12-08-22'"
      ]
     },
     "execution_count": 38,
     "metadata": {},
     "output_type": "execute_result"
    }
   ],
   "source": [
    "data[\"Date\"][0]"
   ]
  },
  {
   "cell_type": "code",
   "execution_count": 39,
   "id": "f42ce609-f4b5-436b-9c55-dc2d8de8f335",
   "metadata": {},
   "outputs": [
    {
     "data": {
      "text/plain": [
       "[37, 41, 45, 49, 52, 58, 62, 66, 70, 74, 79, 83]"
      ]
     },
     "execution_count": 39,
     "metadata": {},
     "output_type": "execute_result"
    }
   ],
   "source": [
    "other_week_numbers = [week_number(data[\"Date\"][i]) for i in range(len(data))]\n",
    "other_week_numbers"
   ]
  },
  {
   "cell_type": "markdown",
   "id": "4d9333c6-aedb-4397-b858-8a2d4beb62c7",
   "metadata": {},
   "source": [
    "# Question: How many cycles are necessary to obtain an accurate prediction for when will your next cycle be?\n",
    "\n",
    "Suggestion of using several predictive techniques, start with Bayesian prediction.\n",
    "\n",
    "* de Paula Oliveira, T., Bruinvels, G., Pedlar, C. R., Moore, B., & Newell, J. (2021). Modelling menstrual cycle length in athletes using state-space models. Scientific reports, 11(1), 1-14.\n",
    "* Bortot, P., Masarotto, G., & Scarpa, B. (2010). Sequential predictions of menstrual cycle lengths. Biostatistics, 11(4), 741-755."
   ]
  },
  {
   "cell_type": "code",
   "execution_count": 41,
   "id": "44d1d27f-d8d0-477c-aa85-dcb86941c20f",
   "metadata": {},
   "outputs": [
    {
     "data": {
      "text/plain": [
       "[4, 5, 4, 4, 4, 4, 6, 3, 4, 4, 4]"
      ]
     },
     "execution_count": 41,
     "metadata": {},
     "output_type": "execute_result"
    }
   ],
   "source": [
    "intervals = [other_week_numbers[-1-i]-other_week_numbers[-2-i] for i in range(len(data)-1)]\n",
    "intervals"
   ]
  },
  {
   "cell_type": "markdown",
   "id": "2691dd47-0b6d-49f8-a392-e096a3b06ed3",
   "metadata": {},
   "source": [
    "# Ideas\n",
    "* Crear funciones que obtienen la primera mitad y la segunda mitad, booleano.\n",
    "* Darle a cada semana un identificador o combinaciones de ellos: 0,1,2,3; tipo sangre, up, down, pitfall\n",
    "* Crea un objetivo de cantidad de distancia o tiempo para cada semana. Puedes basarte en Col d'Ajusc\n",
    "* Incluye un objeto llamado ```week``` que tenga velocidad promedio, max y min por viaje por semana"
   ]
  },
  {
   "cell_type": "code",
   "execution_count": null,
   "id": "828b2da1-9ef5-46a9-8bba-880a9b8c4807",
   "metadata": {},
   "outputs": [],
   "source": []
  },
  {
   "cell_type": "code",
   "execution_count": null,
   "id": "a67dcae6-3eda-4742-8596-c8dca32d94dd",
   "metadata": {},
   "outputs": [],
   "source": []
  },
  {
   "cell_type": "code",
   "execution_count": null,
   "id": "f6c29c85-8918-4904-84d4-373162492d87",
   "metadata": {},
   "outputs": [],
   "source": []
  },
  {
   "cell_type": "code",
   "execution_count": null,
   "id": "312ed0df-e2e9-45f9-af3b-26e9debd7fd4",
   "metadata": {},
   "outputs": [],
   "source": []
  },
  {
   "cell_type": "markdown",
   "id": "cf73e03c-5a42-4649-a1ed-dce70eb32593",
   "metadata": {},
   "source": [
    "TasK:\n",
    "* 20 min rest PRE\n",
    "* 10 min exploration INIT, rec here\n",
    "### wiped down, 3-4 min\n",
    "* 20 min rest REST\n",
    "* 5 min test TEST, rec here\n",
    "\n",
    "Hipothalamus, read review articles. Sex differences? Learning task simultaneously recording from HC and hipothalamus?\n",
    "\n",
    "# Notes for microdrive building\n",
    "\n",
    "* Learn pushpin method, Shay and Josh know\n",
    "* Build a microdrive in 3D using the 16 tetrodes for ephys board\n",
    "* Ask Kayla to load .rec files into python. Files in Starred drive folder\n",
    "* Dropbox-Shay-drive-prototypes-HPC-16 tetrode(only 8?)-V2; re-do (build the same design) that is already here again in Solidworks\n",
    "* Link slack watch 1st 2 videos about Solidworks\n",
    "* LEarn how to use .stl for designing something similar to RatHat 2020."
   ]
  },
  {
   "cell_type": "code",
   "execution_count": null,
   "id": "c9f4dc3b-8b5c-41a5-bec1-318288917d56",
   "metadata": {},
   "outputs": [],
   "source": []
  }
 ],
 "metadata": {
  "kernelspec": {
   "display_name": "Python 3 (ipykernel)",
   "language": "python",
   "name": "python3"
  },
  "language_info": {
   "codemirror_mode": {
    "name": "ipython",
    "version": 3
   },
   "file_extension": ".py",
   "mimetype": "text/x-python",
   "name": "python",
   "nbconvert_exporter": "python",
   "pygments_lexer": "ipython3",
   "version": "3.9.12"
  }
 },
 "nbformat": 4,
 "nbformat_minor": 5
}
