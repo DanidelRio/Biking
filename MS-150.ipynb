{
 "cells": [
  {
   "cell_type": "code",
   "execution_count": 43,
   "id": "3a080ee4-a38d-4aac-a684-2a935e98cd3b",
   "metadata": {},
   "outputs": [],
   "source": [
    "import pandas as pd\n",
    "import numpy as np\n",
    "import matplotlib.pyplot as plt"
   ]
  },
  {
   "cell_type": "code",
   "execution_count": 2,
   "id": "e24c420e-6dc4-495a-8071-997f064d494d",
   "metadata": {},
   "outputs": [],
   "source": [
    "def week_number(date):\n",
    "    '''\n",
    "        date is a string given in the following format: 14-08-22\n",
    "        it parses the date and returns an integer depending on which week it is.\n",
    "        April 24-30 is week zero'''\n",
    "    #16 Jan 2-8\n",
    "    \n",
    "    date = date.split(\"-\")\n",
    "    day_number = 0\n",
    "    for i in range(len(date)):\n",
    "        if i == 0: # Day\n",
    "            day_number += int(date[i])\n",
    "        elif i==2: # Year\n",
    "            if int(date[i]) == 22: #Needs to add 52 weeks\n",
    "                return 17+52-round((day_number+1)/7) #The +1 is because of rounding\n",
    "            else: #Needs to subtract\n",
    "                return 17-round((day_number+2)/7) #The +2 is because of rounding\n",
    "        else: # Month\n",
    "            # Needs to add all the previous months\n",
    "            day_number += month_days(int(date[i]))\n",
    "            \n",
    "def month_days(month):\n",
    "    '''month is an integer value\n",
    "        returns the number of days until that month\n",
    "    '''\n",
    "    days = [0, 31, 59, 90, 120, 151, 181, 212, 243, 273, 304, 334]\n",
    "    return days[month-1]"
   ]
  },
  {
   "cell_type": "code",
   "execution_count": 3,
   "id": "be1a449b-0cd5-48b2-b3f7-a3beb2900dca",
   "metadata": {},
   "outputs": [
    {
     "name": "stdout",
     "output_type": "stream",
     "text": [
      "       Date    Km  Time(min)  Speed(km/h)\n",
      "0  16-07-22  16.1         51         18.7\n",
      "1  02-08-22  10.6         34         18.4\n",
      "2  06-08-22  18.5         58         19.0\n",
      "3  12-08-22   5.7         18         18.9\n",
      "4  13-08-22   8.2         31         15.4\n",
      "5  14-08-22  35.6        108         19.7\n"
     ]
    }
   ],
   "source": [
    "data = pd.read_csv('recordings.txt')\n",
    "print(data)"
   ]
  },
  {
   "cell_type": "code",
   "execution_count": 4,
   "id": "2456ba8a-5a5a-4fa6-b7c6-718aa49856a4",
   "metadata": {},
   "outputs": [
    {
     "name": "stdout",
     "output_type": "stream",
     "text": [
      "<class 'pandas.core.frame.DataFrame'>\n",
      "RangeIndex: 6 entries, 0 to 5\n",
      "Data columns (total 4 columns):\n",
      " #   Column       Non-Null Count  Dtype  \n",
      "---  ------       --------------  -----  \n",
      " 0   Date         6 non-null      object \n",
      " 1   Km           6 non-null      float64\n",
      " 2   Time(min)    6 non-null      int64  \n",
      " 3   Speed(km/h)  6 non-null      float64\n",
      "dtypes: float64(2), int64(1), object(1)\n",
      "memory usage: 320.0+ bytes\n"
     ]
    }
   ],
   "source": [
    "data.info()"
   ]
  },
  {
   "cell_type": "code",
   "execution_count": 5,
   "id": "cc23878c-6192-4892-9f7d-8a2f1f19659f",
   "metadata": {},
   "outputs": [
    {
     "data": {
      "text/plain": [
       "35.6"
      ]
     },
     "execution_count": 5,
     "metadata": {},
     "output_type": "execute_result"
    }
   ],
   "source": [
    "data[\"Km\"][5]"
   ]
  },
  {
   "cell_type": "code",
   "execution_count": 6,
   "id": "7a5d3474-8f62-44f3-bc28-63535d4f622e",
   "metadata": {},
   "outputs": [
    {
     "name": "stdout",
     "output_type": "stream",
     "text": [
      "41\n",
      "38\n",
      "38\n",
      "37\n",
      "37\n",
      "37\n",
      "[41, 38, 37]\n"
     ]
    }
   ],
   "source": [
    "activity_weeks = []\n",
    "\n",
    "for i in range(len(data)):\n",
    "    \n",
    "    current_week = week_number(data[\"Date\"][i]) \n",
    "    print(current_week)\n",
    "    try:\n",
    "        if current_week != activity_weeks[-1]:\n",
    "            activity_weeks.append(current_week)\n",
    "            \n",
    "    except IndexError as e:\n",
    "        activity_weeks.append(current_week)\n",
    "        \n",
    "print(activity_weeks)\n",
    "        \n",
    "    # print(data[\"Date\"][i])\n",
    "    # print(week_number(data[\"Date\"][i]))\n",
    "\n",
    "    # if data[\"Date\"][i] == '14-08-22':\n",
    "    #     print(i)\n",
    "    #     print(data[\"Km\"][i])"
   ]
  },
  {
   "cell_type": "code",
   "execution_count": 19,
   "id": "89408a6c-b68b-476c-88bb-af2aa67c8981",
   "metadata": {},
   "outputs": [],
   "source": [
    "# Obtain the total amount of km ridden in a given week\n",
    "def stats(week, data):\n",
    "    banner = True\n",
    "    total_km = 0\n",
    "    total_time = 0\n",
    "    avg_speed = []\n",
    "    \n",
    "    for i in range(len(data)):\n",
    "        \n",
    "        current_week = week_number(data[\"Date\"][i])\n",
    "        \n",
    "        if week == current_week:\n",
    "            total_km += data[\"Km\"][i]\n",
    "            total_time += data[\"Time(min)\"][i]\n",
    "            avg_speed.append(data[\"Speed(km/h)\"][i])\n",
    "            banner = False\n",
    "        \n",
    "        elif week != current_week and banner == False:\n",
    "            break\n",
    "            \n",
    "    return total_km, total_time, np.sum(avg_speed)/len(avg_speed)"
   ]
  },
  {
   "cell_type": "code",
   "execution_count": 20,
   "id": "4ab94091-8ca3-4095-bc0a-12376ebe47a3",
   "metadata": {},
   "outputs": [
    {
     "name": "stdout",
     "output_type": "stream",
     "text": [
      "       Date    Km  Time(min)  Speed(km/h)\n",
      "0  16-07-22  16.1         51         18.7\n",
      "1  02-08-22  10.6         34         18.4\n",
      "2  06-08-22  18.5         58         19.0\n",
      "3  12-08-22   5.7         18         18.9\n",
      "4  13-08-22   8.2         31         15.4\n",
      "5  14-08-22  35.6        108         19.7\n"
     ]
    }
   ],
   "source": [
    "print(data)"
   ]
  },
  {
   "cell_type": "code",
   "execution_count": 30,
   "id": "5156b896-c265-4dc0-93a1-5a52f6cfa13a",
   "metadata": {},
   "outputs": [],
   "source": [
    "def print_stats(week, data):\n",
    "    total_km, total_time, avg_speed = stats(week, data)\n",
    "    \n",
    "    print(\"Stats for week \" + str(week))\n",
    "    print(\"Distance: \" + str(total_km) + \" km\")\n",
    "    print(\"Time: \" + str(total_time) + \" min\")\n",
    "    print(\"Average speed: \" + str(avg_speed) + \" km/h\")\n",
    "    \n",
    "    return None"
   ]
  },
  {
   "cell_type": "code",
   "execution_count": 33,
   "id": "29888f5f-a1fe-4300-ab2d-8c8a2b770acc",
   "metadata": {},
   "outputs": [
    {
     "name": "stdout",
     "output_type": "stream",
     "text": [
      "Stats for week 41\n",
      "Distance: 16.1 km\n",
      "Time: 51 min\n",
      "Average speed: 18.7 km/h\n",
      "\n",
      "\n",
      "Stats for week 38\n",
      "Distance: 29.1 km\n",
      "Time: 92 min\n",
      "Average speed: 18.7 km/h\n",
      "\n",
      "\n",
      "Stats for week 37\n",
      "Distance: 49.5 km\n",
      "Time: 157 min\n",
      "Average speed: 18.0 km/h\n",
      "\n",
      "\n"
     ]
    }
   ],
   "source": [
    "for week in activity_weeks:\n",
    "    print_stats(week, data)\n",
    "    print(\"\\n\")"
   ]
  },
  {
   "cell_type": "code",
   "execution_count": 42,
   "id": "609ecb4b-e7e7-4ea3-9639-e66423f7c089",
   "metadata": {},
   "outputs": [],
   "source": [
    "length = len(activity_weeks)\n",
    "\n",
    "distance = np.zeros(length)\n",
    "time = np.zeros(length)\n",
    "speed = np.zeros(length)\n",
    "\n",
    "i = 0\n",
    "\n",
    "for week in activity_weeks:\n",
    "    total_km, total_time, avg_speed = stats(week, data)\n",
    "    distance[i], time[i], speed[i] = total_km, total_time, avg_speed\n",
    "    i += 1"
   ]
  },
  {
   "cell_type": "code",
   "execution_count": 56,
   "id": "48da32e2-63b0-4b97-92a6-a74eb4f96a4b",
   "metadata": {},
   "outputs": [
    {
     "data": {
      "image/png": "[encoded data removed]",
      "text/plain": [
       "<Figure size 432x288 with 1 Axes>"
      ]
     },
     "metadata": {
      "needs_background": "light"
     },
     "output_type": "display_data"
    }
   ],
   "source": [
    "plt.plot(activity_weeks, speed, marker=\"o\", label = \"avg speed\")\n",
    "# plt.ylim([0,52])\n",
    "plt.xlabel(\"Week #\")\n",
    "plt.ylabel(\"Km/h\")\n",
    "plt.title(\"Average speed\")\n",
    "plt.legend()\n",
    "plt.show()"
   ]
  },
  {
   "cell_type": "code",
   "execution_count": null,
   "id": "f6435c59-cce3-4853-8716-e656254424e8",
   "metadata": {},
   "outputs": [
    {
     "data": {
      "image/png": "[encoded data removed]",
      "text/plain": [
       "<Figure size 432x288 with 1 Axes>"
      ]
     },
     "metadata": {
      "needs_background": "light"
     },
     "output_type": "display_data"
    }
   ],
   "source": [
    "plt.plot(activity_weeks, time, marker=\"o\", label = \"time\")\n",
    "# plt.ylim([0,52])\n",
    "plt.xlabel(\"Week #\")\n",
    "plt.ylabel(\"Time\")\n",
    "plt.title(\"Time\")\n",
    "plt.legend()\n",
    "plt.show()"
   ]
  },
  {
   "cell_type": "code",
   "execution_count": 52,
   "id": "6522d542-9205-4b7a-8794-e9653cad6571",
   "metadata": {},
   "outputs": [
    {
     "data": {
      "image/png": "[encoded data removed]",
      "text/plain": [
       "<Figure size 432x288 with 1 Axes>"
      ]
     },
     "metadata": {
      "needs_background": "light"
     },
     "output_type": "display_data"
    }
   ],
   "source": [
    "plt.plot(activity_weeks, distance, marker=\"o\", label = \"distance\")\n",
    "plt.ylim([0,52])\n",
    "plt.xlabel(\"Week #\")\n",
    "plt.ylabel(\"Km\")\n",
    "plt.title(\"Distance\")\n",
    "plt.legend()\n",
    "plt.show()"
   ]
  },
  {
   "cell_type": "code",
   "execution_count": null,
   "id": "bad7e827-a985-40b7-a1a8-171cd80434b2",
   "metadata": {},
   "outputs": [],
   "source": []
  },
  {
   "cell_type": "code",
   "execution_count": null,
   "id": "ca6403c9-c224-4beb-a91e-f5828cbcbaf4",
   "metadata": {},
   "outputs": [],
   "source": []
  },
  {
   "cell_type": "code",
   "execution_count": null,
   "id": "f42ce609-f4b5-436b-9c55-dc2d8de8f335",
   "metadata": {},
   "outputs": [],
   "source": []
  }
 ],
 "metadata": {
  "kernelspec": {
   "display_name": "Python 3 (ipykernel)",
   "language": "python",
   "name": "python3"
  },
  "language_info": {
   "codemirror_mode": {
    "name": "ipython",
    "version": 3
   },
   "file_extension": ".py",
   "mimetype": "text/x-python",
   "name": "python",
   "nbconvert_exporter": "python",
   "pygments_lexer": "ipython3",
   "version": "3.9.12"
  }
 },
 "nbformat": 4,
 "nbformat_minor": 5
}
